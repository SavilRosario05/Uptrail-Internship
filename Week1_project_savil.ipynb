{
 "cells": [
  {
   "cell_type": "markdown",
   "id": "4c4e8135",
   "metadata": {},
   "source": [
    "Uptrail Week 1 project"
   ]
  },
  {
   "cell_type": "code",
   "execution_count": 395,
   "id": "5b22b9d7",
   "metadata": {},
   "outputs": [],
   "source": [
    "import pandas as pd\n",
    "import numpy as np"
   ]
  },
  {
   "cell_type": "code",
   "execution_count": 396,
   "id": "de01270e",
   "metadata": {},
   "outputs": [
    {
     "data": {
      "text/html": [
       "<div>\n",
       "<style scoped>\n",
       "    .dataframe tbody tr th:only-of-type {\n",
       "        vertical-align: middle;\n",
       "    }\n",
       "\n",
       "    .dataframe tbody tr th {\n",
       "        vertical-align: top;\n",
       "    }\n",
       "\n",
       "    .dataframe thead th {\n",
       "        text-align: right;\n",
       "    }\n",
       "</style>\n",
       "<table border=\"1\" class=\"dataframe\">\n",
       "  <thead>\n",
       "    <tr style=\"text-align: right;\">\n",
       "      <th></th>\n",
       "      <th>customer_id</th>\n",
       "      <th>name</th>\n",
       "      <th>email</th>\n",
       "      <th>signup_date</th>\n",
       "      <th>source</th>\n",
       "      <th>region</th>\n",
       "      <th>plan_selected</th>\n",
       "      <th>marketing_opt_in</th>\n",
       "      <th>age</th>\n",
       "      <th>gender</th>\n",
       "    </tr>\n",
       "  </thead>\n",
       "  <tbody>\n",
       "    <tr>\n",
       "      <th>0</th>\n",
       "      <td>CUST00000</td>\n",
       "      <td>Joshua Bryant</td>\n",
       "      <td>NaN</td>\n",
       "      <td>NaN</td>\n",
       "      <td>Instagram</td>\n",
       "      <td>NaN</td>\n",
       "      <td>basic</td>\n",
       "      <td>No</td>\n",
       "      <td>34</td>\n",
       "      <td>Female</td>\n",
       "    </tr>\n",
       "    <tr>\n",
       "      <th>1</th>\n",
       "      <td>CUST00001</td>\n",
       "      <td>Nicole Stewart</td>\n",
       "      <td>nicole1@example.com</td>\n",
       "      <td>02-01-2024</td>\n",
       "      <td>LinkedIn</td>\n",
       "      <td>West</td>\n",
       "      <td>basic</td>\n",
       "      <td>Yes</td>\n",
       "      <td>29</td>\n",
       "      <td>Male</td>\n",
       "    </tr>\n",
       "    <tr>\n",
       "      <th>2</th>\n",
       "      <td>CUST00002</td>\n",
       "      <td>Rachel Allen</td>\n",
       "      <td>rachel2@example.com</td>\n",
       "      <td>03-01-2024</td>\n",
       "      <td>Google</td>\n",
       "      <td>North</td>\n",
       "      <td>PREMIUM</td>\n",
       "      <td>Yes</td>\n",
       "      <td>34</td>\n",
       "      <td>Non-Binary</td>\n",
       "    </tr>\n",
       "    <tr>\n",
       "      <th>3</th>\n",
       "      <td>CUST00003</td>\n",
       "      <td>Zachary Sanchez</td>\n",
       "      <td>zachary3@mailhub.org</td>\n",
       "      <td>04-01-2024</td>\n",
       "      <td>YouTube</td>\n",
       "      <td>NaN</td>\n",
       "      <td>Pro</td>\n",
       "      <td>No</td>\n",
       "      <td>40</td>\n",
       "      <td>Male</td>\n",
       "    </tr>\n",
       "    <tr>\n",
       "      <th>4</th>\n",
       "      <td>CUST00004</td>\n",
       "      <td>NaN</td>\n",
       "      <td>matthew4@mailhub.org</td>\n",
       "      <td>05-01-2024</td>\n",
       "      <td>LinkedIn</td>\n",
       "      <td>West</td>\n",
       "      <td>Premium</td>\n",
       "      <td>No</td>\n",
       "      <td>25</td>\n",
       "      <td>Other</td>\n",
       "    </tr>\n",
       "  </tbody>\n",
       "</table>\n",
       "</div>"
      ],
      "text/plain": [
       "  customer_id             name                 email signup_date     source   \n",
       "0   CUST00000    Joshua Bryant                   NaN         NaN  Instagram  \\\n",
       "1   CUST00001   Nicole Stewart   nicole1@example.com  02-01-2024   LinkedIn   \n",
       "2   CUST00002     Rachel Allen   rachel2@example.com  03-01-2024     Google   \n",
       "3   CUST00003  Zachary Sanchez  zachary3@mailhub.org  04-01-2024    YouTube   \n",
       "4   CUST00004              NaN  matthew4@mailhub.org  05-01-2024   LinkedIn   \n",
       "\n",
       "  region plan_selected marketing_opt_in age      gender  \n",
       "0    NaN         basic               No  34      Female  \n",
       "1   West         basic              Yes  29        Male  \n",
       "2  North       PREMIUM              Yes  34  Non-Binary  \n",
       "3    NaN           Pro               No  40        Male  \n",
       "4   West       Premium               No  25       Other  "
      ]
     },
     "execution_count": 396,
     "metadata": {},
     "output_type": "execute_result"
    }
   ],
   "source": [
    "df = pd.read_csv(\"C:/Users/HP/Desktop/Uptrail/Week1 Dataset/customer_signups.csv\")\n",
    "df.head(5)"
   ]
  },
  {
   "cell_type": "code",
   "execution_count": 397,
   "id": "5ccc3dac",
   "metadata": {},
   "outputs": [
    {
     "data": {
      "text/plain": [
       "customer_id         298\n",
       "name                291\n",
       "email               266\n",
       "signup_date         298\n",
       "source              291\n",
       "region              270\n",
       "plan_selected       292\n",
       "marketing_opt_in    290\n",
       "age                 288\n",
       "gender              292\n",
       "dtype: int64"
      ]
     },
     "execution_count": 397,
     "metadata": {},
     "output_type": "execute_result"
    }
   ],
   "source": [
    "df.count()"
   ]
  },
  {
   "cell_type": "code",
   "execution_count": 398,
   "id": "489695cf",
   "metadata": {},
   "outputs": [
    {
     "data": {
      "text/plain": [
       "customer_id         object\n",
       "name                object\n",
       "email               object\n",
       "signup_date         object\n",
       "source              object\n",
       "region              object\n",
       "plan_selected       object\n",
       "marketing_opt_in    object\n",
       "age                 object\n",
       "gender              object\n",
       "dtype: object"
      ]
     },
     "execution_count": 398,
     "metadata": {},
     "output_type": "execute_result"
    }
   ],
   "source": [
    "df.dtypes"
   ]
  },
  {
   "cell_type": "code",
   "execution_count": 399,
   "id": "a6e8e6fe",
   "metadata": {},
   "outputs": [],
   "source": [
    "# df['signup_date'] = pd.to_datetime(df['signup_date'])\n",
    "# df['signup_date'] = pd.to_datetime(df['signup_date'], dayfirst=True, errors='coerce')\n",
    "# df.dtypes\n"
   ]
  },
  {
   "cell_type": "code",
   "execution_count": 400,
   "id": "af2ae08c",
   "metadata": {},
   "outputs": [
    {
     "name": "stdout",
     "output_type": "stream",
     "text": [
      "Valid dates: 300\n",
      "Invalid (NaT) dates: 0\n"
     ]
    }
   ],
   "source": [
    "# bad_values = ['not a date', '', 'n/a']\n",
    "# df['signup_date'] = df['signup_date'].replace(bad_values, np.nan)\n",
    "# df['signup_date'] = pd.to_datetime(df['signup_date'], errors='coerce')\n",
    "# # df['signup_date'].count()\n",
    "# df['signup_date'] = pd.to_datetime(df['signup_date'])\n",
    "df['signup_date'] = pd.to_datetime(df['signup_date'], dayfirst=True, errors='coerce')\n",
    "# df['signup_date'] = df['signup_date'].replace('', pd.NA)\n",
    "median_date = df['signup_date'].median()\n",
    "df['signup_date'] = df['signup_date'].fillna(median_date)\n",
    "\n",
    "\n",
    "# df['signup_date'].count()\n",
    "\n",
    "# df['signup_date'] = pd.to_datetime(df['signup_date'], dayfirst=True, errors='coerce')\n",
    "print(\"Valid dates:\", df['signup_date'].notna().sum())\n",
    "print(\"Invalid (NaT) dates:\", df['signup_date'].isna().sum())\n"
   ]
  },
  {
   "cell_type": "code",
   "execution_count": 401,
   "id": "a7bc70f7",
   "metadata": {},
   "outputs": [
    {
     "data": {
      "text/plain": [
       "0    2024-05-30\n",
       "1    2024-01-02\n",
       "2    2024-01-03\n",
       "3    2024-01-04\n",
       "4    2024-01-05\n",
       "        ...    \n",
       "80   2024-05-30\n",
       "81   2024-03-22\n",
       "82   2024-03-23\n",
       "83   2024-03-24\n",
       "84   2024-03-25\n",
       "Name: signup_date, Length: 85, dtype: datetime64[ns]"
      ]
     },
     "execution_count": 401,
     "metadata": {},
     "output_type": "execute_result"
    }
   ],
   "source": [
    "# Show rows that failed parsing\n",
    "df['signup_date'].head(85)\n"
   ]
  },
  {
   "cell_type": "code",
   "execution_count": 402,
   "id": "d8f186fd",
   "metadata": {},
   "outputs": [],
   "source": [
    "#converting marketing-opt_in column into boolean data type and handling missing values\n",
    "df['marketing_opt_in'] = df['marketing_opt_in'].astype(str).str.lower().str.strip()\n",
    "df['marketing_opt_in'] = df['marketing_opt_in'].map({\n",
    "    'yes': True,\n",
    "    'no' : False\n",
    "})\n",
    "df['marketing_opt_in'] = df['marketing_opt_in'].fillna(False)\n"
   ]
  },
  {
   "cell_type": "code",
   "execution_count": 403,
   "id": "459cc76c",
   "metadata": {},
   "outputs": [
    {
     "data": {
      "text/plain": [
       "array([False,  True])"
      ]
     },
     "execution_count": 403,
     "metadata": {},
     "output_type": "execute_result"
    }
   ],
   "source": [
    "#checking for unique values in the column\n",
    "df['marketing_opt_in'].unique()"
   ]
  },
  {
   "cell_type": "code",
   "execution_count": 404,
   "id": "1e81431f",
   "metadata": {},
   "outputs": [
    {
     "data": {
      "text/plain": [
       "0"
      ]
     },
     "execution_count": 404,
     "metadata": {},
     "output_type": "execute_result"
    }
   ],
   "source": [
    "#checking for null values in the column \n",
    "df['marketing_opt_in'].isna().sum()"
   ]
  },
  {
   "cell_type": "code",
   "execution_count": 405,
   "id": "ce7309b8",
   "metadata": {},
   "outputs": [
    {
     "data": {
      "text/plain": [
       "2"
      ]
     },
     "execution_count": 405,
     "metadata": {},
     "output_type": "execute_result"
    }
   ],
   "source": [
    "#cleaning customer_id column \n",
    "#cheking for null values\n",
    "df['customer_id'].isna().sum()"
   ]
  },
  {
   "cell_type": "code",
   "execution_count": 406,
   "id": "221a9a6c",
   "metadata": {},
   "outputs": [],
   "source": [
    "#extracting numeric part and fillinh null cells as they are in sequence\n",
    "df['customer_id_numeric'] = df['customer_id'].str.extract(r'(\\d{5})')\n",
    "df['customer_id_numeric'] = pd.to_numeric(df['customer_id_numeric'], errors='coerce')\n",
    "df['customer_id_numeric'] = df['customer_id_numeric'].interpolate(method='linear')\n",
    "df['customer_id_numeric'] = df['customer_id_numeric'].round().astype(int)\n",
    "df['customer_id'] = df['customer_id_numeric'].apply(lambda x: f\"CUST{x:05d}\")\n",
    "\n",
    "# Step 5: Drop helper column\n",
    "# df.drop(columns='customer_id_numeric', inplace=True)\n"
   ]
  },
  {
   "cell_type": "code",
   "execution_count": 407,
   "id": "183fadbf",
   "metadata": {},
   "outputs": [
    {
     "data": {
      "text/plain": [
       "0"
      ]
     },
     "execution_count": 407,
     "metadata": {},
     "output_type": "execute_result"
    }
   ],
   "source": [
    "#double chaecking for null values\n",
    "df['customer_id'].isna().sum()\n"
   ]
  },
  {
   "cell_type": "code",
   "execution_count": 408,
   "id": "cafc2678",
   "metadata": {},
   "outputs": [],
   "source": [
    "#Dropping helper column\n",
    "df.drop(columns='customer_id_numeric', inplace=True)"
   ]
  },
  {
   "cell_type": "code",
   "execution_count": 409,
   "id": "9c6d70b5",
   "metadata": {},
   "outputs": [],
   "source": [
    "# Handling missing name where email is available\n",
    "def infer_name_from_email(email):\n",
    "    if pd.isna(email):\n",
    "        return np.nan\n",
    "    username = email.split('@')[0]\n",
    "    name_parts = ''.join([c if not c.isdigit() else ' ' + c for c in username]).split()\n",
    "    return name_parts[0].capitalize() if name_parts else np.nan\n",
    "\n",
    "df['name'] = df.apply(\n",
    "    lambda row: infer_name_from_email(row['email']) if pd.isna(row['name']) else row['name'],\n",
    "    axis=1\n",
    ")\n",
    "\n",
    "#fill null cells as not specified\n",
    "df['name'] = df['name'].fillna('Not Specified')\n",
    "\n"
   ]
  },
  {
   "cell_type": "code",
   "execution_count": 410,
   "id": "67f79372",
   "metadata": {},
   "outputs": [
    {
     "data": {
      "text/plain": [
       "300"
      ]
     },
     "execution_count": 410,
     "metadata": {},
     "output_type": "execute_result"
    }
   ],
   "source": [
    "#checking for the null values after filling names from email \n",
    "# df['name'].isna().sum()\n",
    "df['name'].count()\n"
   ]
  },
  {
   "cell_type": "code",
   "execution_count": 411,
   "id": "e4e7e711",
   "metadata": {},
   "outputs": [
    {
     "data": {
      "text/plain": [
       "34"
      ]
     },
     "execution_count": 411,
     "metadata": {},
     "output_type": "execute_result"
    }
   ],
   "source": [
    "#checking for null values in the email column\n",
    "df['email'].isna().sum()"
   ]
  },
  {
   "cell_type": "code",
   "execution_count": 412,
   "id": "59ffcd02",
   "metadata": {},
   "outputs": [
    {
     "name": "stdout",
     "output_type": "stream",
     "text": [
      "0\n"
     ]
    }
   ],
   "source": [
    "#converting null vlaues as not specified\n",
    "df['email'] = df['email'].replace(r'^\\s*$', np.nan, regex=True)  \n",
    "df['email'] = df['email'].fillna('Not Specified')                \n",
    "\n",
    "print(df['email'].isna().sum())\n"
   ]
  },
  {
   "cell_type": "code",
   "execution_count": 413,
   "id": "c70ba536",
   "metadata": {},
   "outputs": [],
   "source": [
    "#cleaning source column by replacing null values by Unkown \n",
    "df['source'] = df['source'].replace(r'^\\s*$|^\\?\\?$', np.nan, regex=True)\n",
    "\n",
    "df['source'] = df['source'].fillna('Unknown')\n",
    "\n",
    "df['source'] = df['source'].str.title()\n"
   ]
  },
  {
   "cell_type": "code",
   "execution_count": 414,
   "id": "00b07417",
   "metadata": {},
   "outputs": [
    {
     "data": {
      "text/plain": [
       "array(['Instagram', 'Linkedin', 'Google', 'Youtube', 'Facebook',\n",
       "       'Referral', 'Unknown'], dtype=object)"
      ]
     },
     "execution_count": 414,
     "metadata": {},
     "output_type": "execute_result"
    }
   ],
   "source": [
    "df['source'].unique()"
   ]
  },
  {
   "cell_type": "code",
   "execution_count": 415,
   "id": "d17247c4",
   "metadata": {},
   "outputs": [
    {
     "data": {
      "text/plain": [
       "0"
      ]
     },
     "execution_count": 415,
     "metadata": {},
     "output_type": "execute_result"
    }
   ],
   "source": [
    "df['source'].isna().sum()"
   ]
  },
  {
   "cell_type": "code",
   "execution_count": 416,
   "id": "1e659102",
   "metadata": {},
   "outputs": [
    {
     "data": {
      "text/plain": [
       "array([nan, 'West', 'North', 'South', 'Central', 'East'], dtype=object)"
      ]
     },
     "execution_count": 416,
     "metadata": {},
     "output_type": "execute_result"
    }
   ],
   "source": [
    "#cleaning region column\n",
    "#cheking for null and unique vlaues\n",
    "df['region'].unique()"
   ]
  },
  {
   "cell_type": "code",
   "execution_count": 417,
   "id": "8a910733",
   "metadata": {},
   "outputs": [
    {
     "name": "stdout",
     "output_type": "stream",
     "text": [
      "270\n",
      "30\n"
     ]
    }
   ],
   "source": [
    "print(df['region'].count())\n",
    "print(df['region'].isna().sum())"
   ]
  },
  {
   "cell_type": "code",
   "execution_count": 418,
   "id": "da16c29f",
   "metadata": {},
   "outputs": [],
   "source": [
    "# Clean 'region' column\n",
    "df['region'] = df['region'].replace(r'^\\s*$', np.nan, regex=True)  \n",
    "df['region'] = df['region'].fillna('Unknown')                      \n",
    "df['region'] = df['region'].str.title()                            \n"
   ]
  },
  {
   "cell_type": "code",
   "execution_count": 419,
   "id": "1971c69a",
   "metadata": {},
   "outputs": [
    {
     "name": "stdout",
     "output_type": "stream",
     "text": [
      "300\n",
      "0\n",
      "['Unknown' 'West' 'North' 'South' 'Central' 'East']\n"
     ]
    }
   ],
   "source": [
    "#rechecking the region column\n",
    "print(df['region'].count())\n",
    "print(df['region'].isna().sum())\n",
    "print(df['region'].unique())"
   ]
  },
  {
   "cell_type": "code",
   "execution_count": 420,
   "id": "eb3014ca",
   "metadata": {},
   "outputs": [
    {
     "data": {
      "text/plain": [
       "array(['basic', 'PREMIUM', 'Pro', 'Premium', 'UnknownPlan', 'PRO',\n",
       "       'Basic', nan, 'prem'], dtype=object)"
      ]
     },
     "execution_count": 420,
     "metadata": {},
     "output_type": "execute_result"
    }
   ],
   "source": [
    "#cleaning plan_selected Column\n",
    "df['plan_selected'].unique()"
   ]
  },
  {
   "cell_type": "code",
   "execution_count": 421,
   "id": "e7083de5",
   "metadata": {},
   "outputs": [
    {
     "name": "stdout",
     "output_type": "stream",
     "text": [
      "8\n",
      "plan_selected\n",
      "Premium        57\n",
      "Pro            53\n",
      "basic          46\n",
      "Basic          46\n",
      "PREMIUM        42\n",
      "PRO            41\n",
      "UnknownPlan     6\n",
      "prem            1\n",
      "Name: count, dtype: int64\n",
      "292\n"
     ]
    }
   ],
   "source": [
    "print(df['plan_selected'].isna().sum())\n",
    "print(df['plan_selected'].value_counts(dropna=True))\n",
    "print(df['plan_selected'].count())"
   ]
  },
  {
   "cell_type": "code",
   "execution_count": 422,
   "id": "8aca2f10",
   "metadata": {},
   "outputs": [],
   "source": [
    "# dealing with null values\n",
    "df['plan_selected'] = df['plan_selected'].replace(r'^\\s*$', np.nan, regex=True)\n",
    "df['plan_selected'] = df['plan_selected'].fillna('UnknownPlan')\n",
    "\n",
    "# Converting all to lowercase\n",
    "df['plan_selected'] = df['plan_selected'].str.lower()\n",
    "\n",
    "# column integration/ quality\n",
    "df['plan_selected'] = df['plan_selected'].replace({\n",
    "    'prem': 'premium'  \n",
    "})\n",
    "\n",
    "\n",
    "# df['plan_selected'] = df['plan_selected'].astype('category')\n"
   ]
  },
  {
   "cell_type": "code",
   "execution_count": 423,
   "id": "4b9955ff",
   "metadata": {},
   "outputs": [
    {
     "name": "stdout",
     "output_type": "stream",
     "text": [
      "0\n",
      "plan_selected\n",
      "premium        100\n",
      "pro             94\n",
      "basic           92\n",
      "unknownplan     14\n",
      "Name: count, dtype: int64\n",
      "300\n"
     ]
    }
   ],
   "source": [
    "print(df['plan_selected'].isna().sum())\n",
    "print(df['plan_selected'].value_counts(dropna=True))\n",
    "print(df['plan_selected'].count())"
   ]
  },
  {
   "cell_type": "code",
   "execution_count": 424,
   "id": "2d75fd7b",
   "metadata": {},
   "outputs": [
    {
     "data": {
      "text/plain": [
       "array(['34', '29', '40', '25', '60', '47', '53', '21', nan, 'unknown',\n",
       "       'thirty', '206'], dtype=object)"
      ]
     },
     "execution_count": 424,
     "metadata": {},
     "output_type": "execute_result"
    }
   ],
   "source": [
    "#cleaning age column \n",
    "df['age'].unique()"
   ]
  },
  {
   "cell_type": "code",
   "execution_count": 425,
   "id": "346bfab4",
   "metadata": {},
   "outputs": [
    {
     "name": "stdout",
     "output_type": "stream",
     "text": [
      "12\n",
      "age\n",
      "40         50\n",
      "25         49\n",
      "29         46\n",
      "34         44\n",
      "21         28\n",
      "53         27\n",
      "47         22\n",
      "60         14\n",
      "unknown     6\n",
      "thirty      1\n",
      "206         1\n",
      "Name: count, dtype: int64\n",
      "288\n"
     ]
    }
   ],
   "source": [
    "print(df['age'].isna().sum())\n",
    "print(df['age'].value_counts(dropna=True))\n",
    "print(df['age'].count())"
   ]
  },
  {
   "cell_type": "code",
   "execution_count": 426,
   "id": "39b02d2c",
   "metadata": {},
   "outputs": [
    {
     "name": "stdout",
     "output_type": "stream",
     "text": [
      "34.0\n",
      "0\n",
      "age\n",
      "34    63\n",
      "40    50\n",
      "25    49\n",
      "29    46\n",
      "21    28\n",
      "53    27\n",
      "47    22\n",
      "60    14\n",
      "30     1\n",
      "Name: count, dtype: int64\n"
     ]
    }
   ],
   "source": [
    "# Replacing string 'thirty' with 30 and 'unknown' with np.nan\n",
    "df['age'] = df['age'].replace('thirty', 30)\n",
    "df['age'] = df['age'].replace('unknown', np.nan)\n",
    "\n",
    "# # Convert column to numeric, forcing errors to NaN\n",
    "df['age'] = pd.to_numeric(df['age'], errors='coerce')\n",
    "\n",
    "\n",
    "# Remove the outlier 206 (assuming it's a data entry error)\n",
    "df.loc[df['age'] == 206, 'age'] = np.nan\n",
    "\n",
    "# Calculate the median after cleaning\n",
    "median_age = df['age'].median()\n",
    "\n",
    "# Fill NaN values (original NaNs, 'unknown', 'thirty' conversion issues, and 206) with median\n",
    "df['age'] = df['age'].fillna(median_age)\n",
    "\n",
    "# Optional: Convert to integer if needed\n",
    "df['age'] = df['age'].astype(int)\n",
    "\n",
    "# Final check\n",
    "print(median_age)\n",
    "print(df['age'].isna().sum())      \n",
    "print(df['age'].value_counts())   \n"
   ]
  },
  {
   "cell_type": "code",
   "execution_count": 427,
   "id": "10eb7127",
   "metadata": {},
   "outputs": [
    {
     "data": {
      "text/plain": [
       "array(['Female', 'Male', 'Non-Binary', 'Other', 'male', 'FEMALE', nan,\n",
       "       '123'], dtype=object)"
      ]
     },
     "execution_count": 427,
     "metadata": {},
     "output_type": "execute_result"
    }
   ],
   "source": [
    "#cleaning gender column\n",
    "df['gender'].unique()"
   ]
  },
  {
   "cell_type": "code",
   "execution_count": 428,
   "id": "188dac80",
   "metadata": {},
   "outputs": [
    {
     "name": "stdout",
     "output_type": "stream",
     "text": [
      "8\n",
      "gender\n",
      "Other         59\n",
      "FEMALE        52\n",
      "male          49\n",
      "Male          44\n",
      "Non-Binary    42\n",
      "Female        41\n",
      "123            5\n",
      "Name: count, dtype: int64\n",
      "292\n"
     ]
    }
   ],
   "source": [
    "print(df['gender'].isna().sum())\n",
    "print(df['gender'].value_counts(dropna=True))\n",
    "print(df['gender'].count())"
   ]
  },
  {
   "cell_type": "code",
   "execution_count": 429,
   "id": "ba9be77c",
   "metadata": {},
   "outputs": [
    {
     "name": "stdout",
     "output_type": "stream",
     "text": [
      "0\n",
      "gender\n",
      "Female        93\n",
      "Male          93\n",
      "Other         72\n",
      "Non-Binary    42\n",
      "Name: count, dtype: int64\n"
     ]
    }
   ],
   "source": [
    "# Standardizing case to title case\n",
    "df['gender'] = df['gender'].str.title()\n",
    "\n",
    "# Replacing '123' and NaNs with 'Other'\n",
    "df['gender'] = df['gender'].replace(['123', np.nan], 'Other')\n",
    "\n",
    "# Validating and restricting to known categories\n",
    "valid_genders = ['Male', 'Female', 'Non-Binary', 'Other']\n",
    "df['gender'] = df['gender'].apply(lambda x: x if x in valid_genders else 'Other')\n",
    "\n",
    "# Final check\n",
    "print(df['gender'].isna().sum())            \n",
    "print(df['gender'].value_counts())          \n"
   ]
  },
  {
   "cell_type": "code",
   "execution_count": 430,
   "id": "8b09740f",
   "metadata": {},
   "outputs": [
    {
     "data": {
      "text/plain": [
       "customer_id                 object\n",
       "name                        object\n",
       "email                       object\n",
       "signup_date         datetime64[ns]\n",
       "source                      object\n",
       "region                      object\n",
       "plan_selected               object\n",
       "marketing_opt_in              bool\n",
       "age                          int32\n",
       "gender                      object\n",
       "dtype: object"
      ]
     },
     "execution_count": 430,
     "metadata": {},
     "output_type": "execute_result"
    }
   ],
   "source": [
    "df.dtypes"
   ]
  },
  {
   "cell_type": "code",
   "execution_count": 431,
   "id": "ab4b6c15",
   "metadata": {},
   "outputs": [
    {
     "data": {
      "text/plain": [
       "customer_id                 object\n",
       "name                        object\n",
       "email                       object\n",
       "signup_date         datetime64[ns]\n",
       "source                    category\n",
       "region                    category\n",
       "plan_selected             category\n",
       "marketing_opt_in              bool\n",
       "age                          int32\n",
       "gender                    category\n",
       "dtype: object"
      ]
     },
     "execution_count": 431,
     "metadata": {},
     "output_type": "execute_result"
    }
   ],
   "source": [
    "# Converting appropriate columns to 'category'\n",
    "cat_cols = ['source', 'region', 'plan_selected', 'gender']\n",
    "df[cat_cols] = df[cat_cols].astype('category')\n",
    "df.dtypes\n"
   ]
  },
  {
   "cell_type": "code",
   "execution_count": 432,
   "id": "fad56379",
   "metadata": {},
   "outputs": [
    {
     "data": {
      "text/plain": [
       "customer_id  name               email                   signup_date  source     region   plan_selected  marketing_opt_in  age  gender    \n",
       "CUST00000    Joshua Bryant      Not Specified           2024-05-30   Instagram  Unknown  basic          False             34   Female        1\n",
       "CUST00206    Todd Peck III      todd6@example.com       2024-07-25   Unknown    East     pro            False             25   Non-Binary    1\n",
       "CUST00204    Patricia Powers    patricia4@mailhub.org   2024-07-23   Referral   North    basic          False             34   Other         1\n",
       "CUST00203    Kevin Brown        kevin3@mailhub.org      2024-07-22   Instagram  West     basic          False             29   Female        1\n",
       "CUST00202    Donald Underwood   donald2@example.com     2024-07-21   Referral   West     basic          True              40   Female        1\n",
       "                                                                                                                                            ..\n",
       "CUST00099    Chelsey Rodriguez  Not Specified           2024-04-09   Referral   Unknown  pro            False             34   Female        1\n",
       "CUST00098    Wayne Hopkins      wayne98@inboxmail.net   2024-04-08   Youtube    North    pro            True              40   Other         1\n",
       "CUST00097    Bryan George       bryan97@inboxmail.net   2024-04-07   Youtube    East     basic          False             34   Other         1\n",
       "CUST00096    Michelle Mcguire   michelle96@mailhub.org  2024-04-06   Google     North    premium        False             29   Male          1\n",
       "CUST00299    Mr. Bruce Bridges  mr.99@example.com       2024-10-26   Unknown    North    premium        True              29   Male          1\n",
       "Name: count, Length: 300, dtype: int64"
      ]
     },
     "execution_count": 432,
     "metadata": {},
     "output_type": "execute_result"
    }
   ],
   "source": [
    "df.value_counts(dropna=False)"
   ]
  },
  {
   "cell_type": "code",
   "execution_count": 433,
   "id": "75235f15",
   "metadata": {},
   "outputs": [
    {
     "data": {
      "text/plain": [
       "customer_id         0\n",
       "name                0\n",
       "email               0\n",
       "signup_date         0\n",
       "source              0\n",
       "region              0\n",
       "plan_selected       0\n",
       "marketing_opt_in    0\n",
       "age                 0\n",
       "gender              0\n",
       "dtype: int64"
      ]
     },
     "execution_count": 433,
     "metadata": {},
     "output_type": "execute_result"
    }
   ],
   "source": [
    "df.isna().sum()"
   ]
  },
  {
   "cell_type": "code",
   "execution_count": null,
   "id": "b3fe71ea",
   "metadata": {},
   "outputs": [],
   "source": []
  }
 ],
 "metadata": {
  "kernelspec": {
   "display_name": "Python 3",
   "language": "python",
   "name": "python3"
  },
  "language_info": {
   "codemirror_mode": {
    "name": "ipython",
    "version": 3
   },
   "file_extension": ".py",
   "mimetype": "text/x-python",
   "name": "python",
   "nbconvert_exporter": "python",
   "pygments_lexer": "ipython3",
   "version": "3.11.2"
  }
 },
 "nbformat": 4,
 "nbformat_minor": 5
}
