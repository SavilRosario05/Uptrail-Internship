{
 "cells": [
  {
   "cell_type": "markdown",
   "id": "4c4e8135",
   "metadata": {},
   "source": [
    "Uptrail Week 1 project"
   ]
  },
  {
   "cell_type": "code",
   "execution_count": 993,
   "id": "5b22b9d7",
   "metadata": {},
   "outputs": [],
   "source": [
    "#importing libraries\n",
    "import pandas as pd\n",
    "import numpy as np"
   ]
  },
  {
   "cell_type": "code",
   "execution_count": 994,
   "id": "de01270e",
   "metadata": {},
   "outputs": [
    {
     "data": {
      "text/html": [
       "<div>\n",
       "<style scoped>\n",
       "    .dataframe tbody tr th:only-of-type {\n",
       "        vertical-align: middle;\n",
       "    }\n",
       "\n",
       "    .dataframe tbody tr th {\n",
       "        vertical-align: top;\n",
       "    }\n",
       "\n",
       "    .dataframe thead th {\n",
       "        text-align: right;\n",
       "    }\n",
       "</style>\n",
       "<table border=\"1\" class=\"dataframe\">\n",
       "  <thead>\n",
       "    <tr style=\"text-align: right;\">\n",
       "      <th></th>\n",
       "      <th>customer_id</th>\n",
       "      <th>name</th>\n",
       "      <th>email</th>\n",
       "      <th>signup_date</th>\n",
       "      <th>source</th>\n",
       "      <th>region</th>\n",
       "      <th>plan_selected</th>\n",
       "      <th>marketing_opt_in</th>\n",
       "      <th>age</th>\n",
       "      <th>gender</th>\n",
       "    </tr>\n",
       "  </thead>\n",
       "  <tbody>\n",
       "    <tr>\n",
       "      <th>0</th>\n",
       "      <td>CUST00000</td>\n",
       "      <td>Joshua Bryant</td>\n",
       "      <td>NaN</td>\n",
       "      <td>NaN</td>\n",
       "      <td>Instagram</td>\n",
       "      <td>NaN</td>\n",
       "      <td>basic</td>\n",
       "      <td>No</td>\n",
       "      <td>34</td>\n",
       "      <td>Female</td>\n",
       "    </tr>\n",
       "    <tr>\n",
       "      <th>1</th>\n",
       "      <td>CUST00001</td>\n",
       "      <td>Nicole Stewart</td>\n",
       "      <td>nicole1@example.com</td>\n",
       "      <td>02-01-2024</td>\n",
       "      <td>LinkedIn</td>\n",
       "      <td>West</td>\n",
       "      <td>basic</td>\n",
       "      <td>Yes</td>\n",
       "      <td>29</td>\n",
       "      <td>Male</td>\n",
       "    </tr>\n",
       "    <tr>\n",
       "      <th>2</th>\n",
       "      <td>CUST00002</td>\n",
       "      <td>Rachel Allen</td>\n",
       "      <td>rachel2@example.com</td>\n",
       "      <td>03-01-2024</td>\n",
       "      <td>Google</td>\n",
       "      <td>North</td>\n",
       "      <td>PREMIUM</td>\n",
       "      <td>Yes</td>\n",
       "      <td>34</td>\n",
       "      <td>Non-Binary</td>\n",
       "    </tr>\n",
       "    <tr>\n",
       "      <th>3</th>\n",
       "      <td>CUST00003</td>\n",
       "      <td>Zachary Sanchez</td>\n",
       "      <td>zachary3@mailhub.org</td>\n",
       "      <td>04-01-2024</td>\n",
       "      <td>YouTube</td>\n",
       "      <td>NaN</td>\n",
       "      <td>Pro</td>\n",
       "      <td>No</td>\n",
       "      <td>40</td>\n",
       "      <td>Male</td>\n",
       "    </tr>\n",
       "    <tr>\n",
       "      <th>4</th>\n",
       "      <td>CUST00004</td>\n",
       "      <td>NaN</td>\n",
       "      <td>matthew4@mailhub.org</td>\n",
       "      <td>05-01-2024</td>\n",
       "      <td>LinkedIn</td>\n",
       "      <td>West</td>\n",
       "      <td>Premium</td>\n",
       "      <td>No</td>\n",
       "      <td>25</td>\n",
       "      <td>Other</td>\n",
       "    </tr>\n",
       "  </tbody>\n",
       "</table>\n",
       "</div>"
      ],
      "text/plain": [
       "  customer_id             name                 email signup_date     source   \n",
       "0   CUST00000    Joshua Bryant                   NaN         NaN  Instagram  \\\n",
       "1   CUST00001   Nicole Stewart   nicole1@example.com  02-01-2024   LinkedIn   \n",
       "2   CUST00002     Rachel Allen   rachel2@example.com  03-01-2024     Google   \n",
       "3   CUST00003  Zachary Sanchez  zachary3@mailhub.org  04-01-2024    YouTube   \n",
       "4   CUST00004              NaN  matthew4@mailhub.org  05-01-2024   LinkedIn   \n",
       "\n",
       "  region plan_selected marketing_opt_in age      gender  \n",
       "0    NaN         basic               No  34      Female  \n",
       "1   West         basic              Yes  29        Male  \n",
       "2  North       PREMIUM              Yes  34  Non-Binary  \n",
       "3    NaN           Pro               No  40        Male  \n",
       "4   West       Premium               No  25       Other  "
      ]
     },
     "execution_count": 994,
     "metadata": {},
     "output_type": "execute_result"
    }
   ],
   "source": [
    "#importing dataset\n",
    "df = pd.read_csv(\"C:/Users/HP/Desktop/Uptrail/Week1 Dataset/customer_signups.csv\")\n",
    "df.head(5)"
   ]
  },
  {
   "cell_type": "code",
   "execution_count": 995,
   "id": "5ccc3dac",
   "metadata": {},
   "outputs": [
    {
     "data": {
      "text/plain": [
       "customer_id         298\n",
       "name                291\n",
       "email               266\n",
       "signup_date         298\n",
       "source              291\n",
       "region              270\n",
       "plan_selected       292\n",
       "marketing_opt_in    290\n",
       "age                 288\n",
       "gender              292\n",
       "dtype: int64"
      ]
     },
     "execution_count": 995,
     "metadata": {},
     "output_type": "execute_result"
    }
   ],
   "source": [
    "#dataset summary\n",
    "df.count()"
   ]
  },
  {
   "cell_type": "markdown",
   "id": "1179fdb2",
   "metadata": {},
   "source": [
    "Data Quality Check before cleaning"
   ]
  },
  {
   "cell_type": "code",
   "execution_count": 996,
   "id": "0b98e13d",
   "metadata": {},
   "outputs": [
    {
     "name": "stdout",
     "output_type": "stream",
     "text": [
      "                  Missing Values  Percentage (%)\n",
      "customer_id                    2            0.67\n",
      "name                           9            3.00\n",
      "email                         34           11.33\n",
      "signup_date                    2            0.67\n",
      "source                         9            3.00\n",
      "region                        30           10.00\n",
      "plan_selected                  8            2.67\n",
      "marketing_opt_in              10            3.33\n",
      "age                           12            4.00\n",
      "gender                         8            2.67\n"
     ]
    }
   ],
   "source": [
    "#Calculate number of missing values in each column \n",
    "missing_counts = df.isnull().sum()\n",
    "\n",
    "# Percentage of missing values per column\n",
    "missing_percentages = (missing_counts / len(df)) * 100\n",
    "\n",
    "# Combining into one summary DataFrame\n",
    "missing_summary = pd.DataFrame({\n",
    "    'Missing Values': missing_counts,\n",
    "    'Percentage (%)': missing_percentages.round(2)\n",
    "})\n",
    "\n",
    "\n",
    "print(missing_summary)\n"
   ]
  },
  {
   "cell_type": "markdown",
   "id": "cc26baa9",
   "metadata": {},
   "source": [
    "Data Cleaning "
   ]
  },
  {
   "cell_type": "code",
   "execution_count": 997,
   "id": "489695cf",
   "metadata": {},
   "outputs": [
    {
     "data": {
      "text/plain": [
       "customer_id         object\n",
       "name                object\n",
       "email               object\n",
       "signup_date         object\n",
       "source              object\n",
       "region              object\n",
       "plan_selected       object\n",
       "marketing_opt_in    object\n",
       "age                 object\n",
       "gender              object\n",
       "dtype: object"
      ]
     },
     "execution_count": 997,
     "metadata": {},
     "output_type": "execute_result"
    }
   ],
   "source": [
    "df.dtypes"
   ]
  },
  {
   "cell_type": "code",
   "execution_count": 998,
   "id": "952a9f5a",
   "metadata": {},
   "outputs": [
    {
     "name": "stdout",
     "output_type": "stream",
     "text": [
      "Valid dates: 298\n",
      "Invalid (NaT) dates: 2\n"
     ]
    }
   ],
   "source": [
    "print(\"Valid dates:\", df['signup_date'].notna().sum())\n",
    "print(\"Invalid (NaT) dates:\", df['signup_date'].isna().sum())\n",
    "\n"
   ]
  },
  {
   "cell_type": "code",
   "execution_count": 999,
   "id": "af2ae08c",
   "metadata": {},
   "outputs": [
    {
     "name": "stdout",
     "output_type": "stream",
     "text": [
      "Valid dates: 300\n",
      "Invalid (NaT) dates: 0\n",
      "2024-05-30 00:00:00\n"
     ]
    }
   ],
   "source": [
    "# cleaning signup_date column\n",
    "df['signup_date'] = pd.to_datetime(df['signup_date'], dayfirst=True, errors='coerce')\n",
    "median_date = df['signup_date'].median()\n",
    "df['signup_date'] = df['signup_date'].fillna(median_date)\n",
    "\n",
    "print(\"Valid dates:\", df['signup_date'].notna().sum())\n",
    "print(\"Invalid (NaT) dates:\", df['signup_date'].isna().sum())\n",
    "print(median_date)"
   ]
  },
  {
   "cell_type": "code",
   "execution_count": 1000,
   "id": "a7bc70f7",
   "metadata": {},
   "outputs": [
    {
     "data": {
      "text/plain": [
       "0    2024-05-30\n",
       "1    2024-01-02\n",
       "2    2024-01-03\n",
       "3    2024-01-04\n",
       "4    2024-01-05\n",
       "        ...    \n",
       "85   2024-03-26\n",
       "86   2024-05-30\n",
       "87   2024-03-28\n",
       "88   2024-03-29\n",
       "89   2024-03-30\n",
       "Name: signup_date, Length: 90, dtype: datetime64[ns]"
      ]
     },
     "execution_count": 1000,
     "metadata": {},
     "output_type": "execute_result"
    }
   ],
   "source": [
    "# Show rows that failed parsing\n",
    "df['signup_date'].head(90)\n"
   ]
  },
  {
   "cell_type": "code",
   "execution_count": 1001,
   "id": "393df8bd",
   "metadata": {},
   "outputs": [
    {
     "data": {
      "text/plain": [
       "array(['No', 'Yes', nan, 'Nil'], dtype=object)"
      ]
     },
     "execution_count": 1001,
     "metadata": {},
     "output_type": "execute_result"
    }
   ],
   "source": [
    "#cheking for unique values in marketing column\n",
    "df['marketing_opt_in'].unique()"
   ]
  },
  {
   "cell_type": "code",
   "execution_count": 1002,
   "id": "d8f186fd",
   "metadata": {},
   "outputs": [],
   "source": [
    "#converting marketing-opt_in column into boolean data type and handling missing values\n",
    "df['marketing_opt_in'] = df['marketing_opt_in'].astype(str).str.lower().str.strip()\n",
    "df['marketing_opt_in'] = df['marketing_opt_in'].map({\n",
    "    'yes': True,\n",
    "    'no' : False\n",
    "})\n",
    "df['marketing_opt_in'] = df['marketing_opt_in'].fillna(False)\n"
   ]
  },
  {
   "cell_type": "code",
   "execution_count": 1003,
   "id": "459cc76c",
   "metadata": {},
   "outputs": [
    {
     "data": {
      "text/plain": [
       "array([False,  True])"
      ]
     },
     "execution_count": 1003,
     "metadata": {},
     "output_type": "execute_result"
    }
   ],
   "source": [
    "#checking for unique values in the column\n",
    "df['marketing_opt_in'].unique()"
   ]
  },
  {
   "cell_type": "code",
   "execution_count": 1004,
   "id": "1e81431f",
   "metadata": {},
   "outputs": [
    {
     "data": {
      "text/plain": [
       "0"
      ]
     },
     "execution_count": 1004,
     "metadata": {},
     "output_type": "execute_result"
    }
   ],
   "source": [
    "#checking for null values in the column \n",
    "df['marketing_opt_in'].isna().sum()"
   ]
  },
  {
   "cell_type": "code",
   "execution_count": 1005,
   "id": "ce7309b8",
   "metadata": {},
   "outputs": [
    {
     "data": {
      "text/plain": [
       "2"
      ]
     },
     "execution_count": 1005,
     "metadata": {},
     "output_type": "execute_result"
    }
   ],
   "source": [
    "#cleaning customer_id column \n",
    "#cheking for null values\n",
    "df['customer_id'].isna().sum()"
   ]
  },
  {
   "cell_type": "code",
   "execution_count": 1006,
   "id": "221a9a6c",
   "metadata": {},
   "outputs": [
    {
     "name": "stdout",
     "output_type": "stream",
     "text": [
      "    customer_id             name                    email signup_date   \n",
      "161         NaN    Robert Carter     robert61@example.com  2024-06-10  \\\n",
      "287         NaN  Antonio Hammond  antonio87@inboxmail.net  2024-10-14   \n",
      "\n",
      "        source region plan_selected  marketing_opt_in age  gender  \n",
      "161   LinkedIn  South           Pro              True  34    Male  \n",
      "287  Instagram   West          prem              True  25  FEMALE  \n"
     ]
    }
   ],
   "source": [
    "#checking for duplicates before we clean the customer_id column\n",
    "df['customer_id'] = df['customer_id'].str.strip()\n",
    "duplicates = df[df['customer_id'].duplicated(keep=False)]\n",
    "print(duplicates)\n",
    "\n",
    "\n",
    "#extracting numeric part and fillinh null cells as they are in sequence\n",
    "df['customer_id_numeric'] = df['customer_id'].str.extract(r'(\\d{5})')\n",
    "df['customer_id_numeric'] = pd.to_numeric(df['customer_id_numeric'], errors='coerce')\n",
    "df['customer_id_numeric'] = df['customer_id_numeric'].interpolate(method='linear')\n",
    "df['customer_id_numeric'] = df['customer_id_numeric'].round().astype(int)\n",
    "df['customer_id'] = df['customer_id_numeric'].apply(lambda x: f\"CUST{x:05d}\")\n",
    "\n",
    "\n"
   ]
  },
  {
   "cell_type": "code",
   "execution_count": 1007,
   "id": "183fadbf",
   "metadata": {},
   "outputs": [
    {
     "name": "stdout",
     "output_type": "stream",
     "text": [
      "0\n",
      "Empty DataFrame\n",
      "Columns: [customer_id, name, email, signup_date, source, region, plan_selected, marketing_opt_in, age, gender, customer_id_numeric]\n",
      "Index: []\n"
     ]
    }
   ],
   "source": [
    "#double chaecking for null values\n",
    "print(df['customer_id'].isna().sum())\n",
    "duplicates = df[df['customer_id'].duplicated(keep=False)]\n",
    "print(duplicates)\n"
   ]
  },
  {
   "cell_type": "code",
   "execution_count": 1008,
   "id": "cafc2678",
   "metadata": {},
   "outputs": [],
   "source": [
    "#Dropping helper column\n",
    "df.drop(columns='customer_id_numeric', inplace=True)"
   ]
  },
  {
   "cell_type": "code",
   "execution_count": 1009,
   "id": "9c6d70b5",
   "metadata": {},
   "outputs": [],
   "source": [
    "# Handling missing name where email is available\n",
    "def infer_name_from_email(email):\n",
    "    if pd.isna(email):\n",
    "        return np.nan\n",
    "    username = email.split('@')[0]\n",
    "    name_parts = ''.join([c if not c.isdigit() else ' ' + c for c in username]).split()\n",
    "    return name_parts[0].capitalize() if name_parts else np.nan\n",
    "\n",
    "df['name'] = df.apply(\n",
    "    lambda row: infer_name_from_email(row['email']) if pd.isna(row['name']) else row['name'],\n",
    "    axis=1\n",
    ")\n",
    "\n",
    "#fill null cells as not specified\n",
    "df['name'] = df['name'].fillna('Not Specified')\n",
    "\n"
   ]
  },
  {
   "cell_type": "code",
   "execution_count": 1010,
   "id": "67f79372",
   "metadata": {},
   "outputs": [
    {
     "data": {
      "text/plain": [
       "300"
      ]
     },
     "execution_count": 1010,
     "metadata": {},
     "output_type": "execute_result"
    }
   ],
   "source": [
    "#checking for the null values after filling names from email \n",
    "# df['name'].isna().sum()\n",
    "df['name'].count()\n"
   ]
  },
  {
   "cell_type": "code",
   "execution_count": 1011,
   "id": "e4e7e711",
   "metadata": {},
   "outputs": [
    {
     "data": {
      "text/plain": [
       "34"
      ]
     },
     "execution_count": 1011,
     "metadata": {},
     "output_type": "execute_result"
    }
   ],
   "source": [
    "#checking for null values in the email column\n",
    "df['email'].isna().sum()"
   ]
  },
  {
   "cell_type": "code",
   "execution_count": 1012,
   "id": "59ffcd02",
   "metadata": {},
   "outputs": [
    {
     "name": "stdout",
     "output_type": "stream",
     "text": [
      "0\n"
     ]
    }
   ],
   "source": [
    "#converting null vlaues as not specified\n",
    "df['email'] = df['email'].replace(r'^\\s*$', np.nan, regex=True)  \n",
    "df['email'] = df['email'].fillna('Not Specified')                \n",
    "\n",
    "print(df['email'].isna().sum())\n"
   ]
  },
  {
   "cell_type": "code",
   "execution_count": 1013,
   "id": "c70ba536",
   "metadata": {},
   "outputs": [],
   "source": [
    "#cleaning source column by replacing null values by Unkown \n",
    "df['source'] = df['source'].replace(r'^\\s*$|^\\?\\?$', np.nan, regex=True)\n",
    "\n",
    "df['source'] = df['source'].fillna('Unknown')\n",
    "\n",
    "df['source'] = df['source'].str.title()\n"
   ]
  },
  {
   "cell_type": "code",
   "execution_count": 1014,
   "id": "00b07417",
   "metadata": {},
   "outputs": [
    {
     "data": {
      "text/plain": [
       "array(['Instagram', 'Linkedin', 'Google', 'Youtube', 'Facebook',\n",
       "       'Referral', 'Unknown'], dtype=object)"
      ]
     },
     "execution_count": 1014,
     "metadata": {},
     "output_type": "execute_result"
    }
   ],
   "source": [
    "df['source'].unique()"
   ]
  },
  {
   "cell_type": "code",
   "execution_count": 1015,
   "id": "d17247c4",
   "metadata": {},
   "outputs": [
    {
     "data": {
      "text/plain": [
       "0"
      ]
     },
     "execution_count": 1015,
     "metadata": {},
     "output_type": "execute_result"
    }
   ],
   "source": [
    "df['source'].isna().sum()"
   ]
  },
  {
   "cell_type": "code",
   "execution_count": 1016,
   "id": "1e659102",
   "metadata": {},
   "outputs": [
    {
     "data": {
      "text/plain": [
       "array([nan, 'West', 'North', 'South', 'Central', 'East'], dtype=object)"
      ]
     },
     "execution_count": 1016,
     "metadata": {},
     "output_type": "execute_result"
    }
   ],
   "source": [
    "#cleaning region column\n",
    "#cheking for null and unique vlaues\n",
    "df['region'].unique()"
   ]
  },
  {
   "cell_type": "code",
   "execution_count": 1017,
   "id": "8a910733",
   "metadata": {},
   "outputs": [
    {
     "name": "stdout",
     "output_type": "stream",
     "text": [
      "270\n",
      "30\n"
     ]
    }
   ],
   "source": [
    "print(df['region'].count())\n",
    "print(df['region'].isna().sum())"
   ]
  },
  {
   "cell_type": "code",
   "execution_count": 1018,
   "id": "da16c29f",
   "metadata": {},
   "outputs": [],
   "source": [
    "# Clean 'region' column\n",
    "df['region'] = df['region'].replace(r'^\\s*$', np.nan, regex=True)  \n",
    "df['region'] = df['region'].fillna('Unknown')                      \n",
    "df['region'] = df['region'].str.title()                            \n"
   ]
  },
  {
   "cell_type": "code",
   "execution_count": 1019,
   "id": "1971c69a",
   "metadata": {},
   "outputs": [
    {
     "name": "stdout",
     "output_type": "stream",
     "text": [
      "300\n",
      "0\n",
      "['Unknown' 'West' 'North' 'South' 'Central' 'East']\n"
     ]
    }
   ],
   "source": [
    "#rechecking the region column\n",
    "print(df['region'].count())\n",
    "print(df['region'].isna().sum())\n",
    "print(df['region'].unique())"
   ]
  },
  {
   "cell_type": "code",
   "execution_count": 1020,
   "id": "eb3014ca",
   "metadata": {},
   "outputs": [
    {
     "data": {
      "text/plain": [
       "array(['basic', 'PREMIUM', 'Pro', 'Premium', 'UnknownPlan', 'PRO',\n",
       "       'Basic', nan, 'prem'], dtype=object)"
      ]
     },
     "execution_count": 1020,
     "metadata": {},
     "output_type": "execute_result"
    }
   ],
   "source": [
    "#cleaning plan_selected Column\n",
    "df['plan_selected'].unique()"
   ]
  },
  {
   "cell_type": "code",
   "execution_count": 1021,
   "id": "e7083de5",
   "metadata": {},
   "outputs": [
    {
     "name": "stdout",
     "output_type": "stream",
     "text": [
      "8\n",
      "plan_selected\n",
      "Premium        57\n",
      "Pro            53\n",
      "basic          46\n",
      "Basic          46\n",
      "PREMIUM        42\n",
      "PRO            41\n",
      "UnknownPlan     6\n",
      "prem            1\n",
      "Name: count, dtype: int64\n",
      "292\n"
     ]
    }
   ],
   "source": [
    "print(df['plan_selected'].isna().sum())\n",
    "print(df['plan_selected'].value_counts(dropna=True))\n",
    "print(df['plan_selected'].count())"
   ]
  },
  {
   "cell_type": "code",
   "execution_count": 1022,
   "id": "8aca2f10",
   "metadata": {},
   "outputs": [],
   "source": [
    "# dealing with null values\n",
    "df['plan_selected'] = df['plan_selected'].replace(r'^\\s*$', np.nan, regex=True)\n",
    "df['plan_selected'] = df['plan_selected'].fillna('UnknownPlan')\n",
    "\n",
    "# Converting all to lowercase\n",
    "df['plan_selected'] = df['plan_selected'].str.lower()\n",
    "\n",
    "# column integration/ quality\n",
    "df['plan_selected'] = df['plan_selected'].replace({\n",
    "    'prem': 'premium'  \n",
    "})\n",
    "\n",
    "\n",
    "# df['plan_selected'] = df['plan_selected'].astype('category')\n"
   ]
  },
  {
   "cell_type": "code",
   "execution_count": 1023,
   "id": "4b9955ff",
   "metadata": {},
   "outputs": [
    {
     "name": "stdout",
     "output_type": "stream",
     "text": [
      "0\n",
      "plan_selected\n",
      "premium        100\n",
      "pro             94\n",
      "basic           92\n",
      "unknownplan     14\n",
      "Name: count, dtype: int64\n",
      "300\n"
     ]
    }
   ],
   "source": [
    "print(df['plan_selected'].isna().sum())\n",
    "print(df['plan_selected'].value_counts(dropna=True))\n",
    "print(df['plan_selected'].count())"
   ]
  },
  {
   "cell_type": "code",
   "execution_count": 1024,
   "id": "2d75fd7b",
   "metadata": {},
   "outputs": [
    {
     "data": {
      "text/plain": [
       "array(['34', '29', '40', '25', '60', '47', '53', '21', nan, 'unknown',\n",
       "       'thirty', '206'], dtype=object)"
      ]
     },
     "execution_count": 1024,
     "metadata": {},
     "output_type": "execute_result"
    }
   ],
   "source": [
    "#cleaning age column \n",
    "df['age'].unique()"
   ]
  },
  {
   "cell_type": "code",
   "execution_count": 1025,
   "id": "346bfab4",
   "metadata": {},
   "outputs": [
    {
     "name": "stdout",
     "output_type": "stream",
     "text": [
      "12\n",
      "age\n",
      "40         50\n",
      "25         49\n",
      "29         46\n",
      "34         44\n",
      "21         28\n",
      "53         27\n",
      "47         22\n",
      "60         14\n",
      "unknown     6\n",
      "thirty      1\n",
      "206         1\n",
      "Name: count, dtype: int64\n",
      "288\n"
     ]
    }
   ],
   "source": [
    "print(df['age'].isna().sum())\n",
    "print(df['age'].value_counts(dropna=True))\n",
    "print(df['age'].count())"
   ]
  },
  {
   "cell_type": "code",
   "execution_count": 1026,
   "id": "39b02d2c",
   "metadata": {},
   "outputs": [
    {
     "name": "stdout",
     "output_type": "stream",
     "text": [
      "34.0\n",
      "0\n",
      "age\n",
      "34    63\n",
      "40    50\n",
      "25    49\n",
      "29    46\n",
      "21    28\n",
      "53    27\n",
      "47    22\n",
      "60    14\n",
      "30     1\n",
      "Name: count, dtype: int64\n"
     ]
    }
   ],
   "source": [
    "# Replacing string 'thirty' with 30 and 'unknown' with np.nan\n",
    "df['age'] = df['age'].replace('thirty', 30)\n",
    "df['age'] = df['age'].replace('unknown', np.nan)\n",
    "\n",
    "# # Convert column to numeric, forcing errors to NaN\n",
    "df['age'] = pd.to_numeric(df['age'], errors='coerce')\n",
    "\n",
    "\n",
    "# Remove the outlier 206 (assuming it's a data entry error)\n",
    "df.loc[df['age'] == 206, 'age'] = np.nan\n",
    "\n",
    "# Calculate the median after cleaning\n",
    "median_age = df['age'].median()\n",
    "\n",
    "# Fill NaN values (original NaNs, 'unknown', 'thirty' conversion issues, and 206) with median\n",
    "df['age'] = df['age'].fillna(median_age)\n",
    "\n",
    "# Optional: Convert to integer if needed\n",
    "df['age'] = df['age'].astype(int)\n",
    "\n",
    "# Final check\n",
    "print(median_age)\n",
    "print(df['age'].isna().sum())      \n",
    "print(df['age'].value_counts())   \n"
   ]
  },
  {
   "cell_type": "code",
   "execution_count": 1027,
   "id": "10eb7127",
   "metadata": {},
   "outputs": [
    {
     "data": {
      "text/plain": [
       "array(['Female', 'Male', 'Non-Binary', 'Other', 'male', 'FEMALE', nan,\n",
       "       '123'], dtype=object)"
      ]
     },
     "execution_count": 1027,
     "metadata": {},
     "output_type": "execute_result"
    }
   ],
   "source": [
    "#cleaning gender column\n",
    "df['gender'].unique()"
   ]
  },
  {
   "cell_type": "code",
   "execution_count": 1028,
   "id": "188dac80",
   "metadata": {},
   "outputs": [
    {
     "name": "stdout",
     "output_type": "stream",
     "text": [
      "8\n",
      "gender\n",
      "Other         59\n",
      "FEMALE        52\n",
      "male          49\n",
      "Male          44\n",
      "Non-Binary    42\n",
      "Female        41\n",
      "123            5\n",
      "Name: count, dtype: int64\n",
      "292\n"
     ]
    }
   ],
   "source": [
    "print(df['gender'].isna().sum())\n",
    "print(df['gender'].value_counts(dropna=True))\n",
    "print(df['gender'].count())"
   ]
  },
  {
   "cell_type": "code",
   "execution_count": 1029,
   "id": "ba9be77c",
   "metadata": {},
   "outputs": [
    {
     "name": "stdout",
     "output_type": "stream",
     "text": [
      "0\n",
      "gender\n",
      "Female        93\n",
      "Male          93\n",
      "Other         72\n",
      "Non-Binary    42\n",
      "Name: count, dtype: int64\n"
     ]
    }
   ],
   "source": [
    "# Standardizing case to title case\n",
    "df['gender'] = df['gender'].str.title()\n",
    "\n",
    "# Replacing '123' and NaNs with 'Other'\n",
    "df['gender'] = df['gender'].replace(['123', np.nan], 'Other')\n",
    "\n",
    "# Validating and restricting to known categories\n",
    "valid_genders = ['Male', 'Female', 'Non-Binary', 'Other']\n",
    "df['gender'] = df['gender'].apply(lambda x: x if x in valid_genders else 'Other')\n",
    "\n",
    "# Final check\n",
    "print(df['gender'].isna().sum())            \n",
    "print(df['gender'].value_counts())          \n"
   ]
  },
  {
   "cell_type": "code",
   "execution_count": 1030,
   "id": "8b09740f",
   "metadata": {},
   "outputs": [
    {
     "data": {
      "text/plain": [
       "customer_id                 object\n",
       "name                        object\n",
       "email                       object\n",
       "signup_date         datetime64[ns]\n",
       "source                      object\n",
       "region                      object\n",
       "plan_selected               object\n",
       "marketing_opt_in              bool\n",
       "age                          int32\n",
       "gender                      object\n",
       "dtype: object"
      ]
     },
     "execution_count": 1030,
     "metadata": {},
     "output_type": "execute_result"
    }
   ],
   "source": [
    "df.dtypes"
   ]
  },
  {
   "cell_type": "code",
   "execution_count": 1031,
   "id": "ab4b6c15",
   "metadata": {},
   "outputs": [
    {
     "data": {
      "text/plain": [
       "customer_id                 object\n",
       "name                        object\n",
       "email                       object\n",
       "signup_date         datetime64[ns]\n",
       "source                    category\n",
       "region                    category\n",
       "plan_selected             category\n",
       "marketing_opt_in              bool\n",
       "age                          int32\n",
       "gender                    category\n",
       "dtype: object"
      ]
     },
     "execution_count": 1031,
     "metadata": {},
     "output_type": "execute_result"
    }
   ],
   "source": [
    "# Converting appropriate columns to 'category'\n",
    "cat_cols = ['source', 'region', 'plan_selected', 'gender']\n",
    "df[cat_cols] = df[cat_cols].astype('category')\n",
    "df.dtypes\n"
   ]
  },
  {
   "cell_type": "code",
   "execution_count": 1032,
   "id": "fad56379",
   "metadata": {},
   "outputs": [
    {
     "data": {
      "text/plain": [
       "customer_id  name               email                   signup_date  source     region   plan_selected  marketing_opt_in  age  gender    \n",
       "CUST00000    Joshua Bryant      Not Specified           2024-05-30   Instagram  Unknown  basic          False             34   Female        1\n",
       "CUST00206    Todd Peck III      todd6@example.com       2024-07-25   Unknown    East     pro            False             25   Non-Binary    1\n",
       "CUST00204    Patricia Powers    patricia4@mailhub.org   2024-07-23   Referral   North    basic          False             34   Other         1\n",
       "CUST00203    Kevin Brown        kevin3@mailhub.org      2024-07-22   Instagram  West     basic          False             29   Female        1\n",
       "CUST00202    Donald Underwood   donald2@example.com     2024-07-21   Referral   West     basic          True              40   Female        1\n",
       "                                                                                                                                            ..\n",
       "CUST00099    Chelsey Rodriguez  Not Specified           2024-04-09   Referral   Unknown  pro            False             34   Female        1\n",
       "CUST00098    Wayne Hopkins      wayne98@inboxmail.net   2024-04-08   Youtube    North    pro            True              40   Other         1\n",
       "CUST00097    Bryan George       bryan97@inboxmail.net   2024-04-07   Youtube    East     basic          False             34   Other         1\n",
       "CUST00096    Michelle Mcguire   michelle96@mailhub.org  2024-04-06   Google     North    premium        False             29   Male          1\n",
       "CUST00299    Mr. Bruce Bridges  mr.99@example.com       2024-10-26   Unknown    North    premium        True              29   Male          1\n",
       "Name: count, Length: 300, dtype: int64"
      ]
     },
     "execution_count": 1032,
     "metadata": {},
     "output_type": "execute_result"
    }
   ],
   "source": [
    "df.value_counts(dropna=False)"
   ]
  },
  {
   "cell_type": "code",
   "execution_count": 1033,
   "id": "75235f15",
   "metadata": {},
   "outputs": [
    {
     "data": {
      "text/plain": [
       "customer_id         300\n",
       "name                300\n",
       "email               300\n",
       "signup_date         300\n",
       "source              300\n",
       "region              300\n",
       "plan_selected       300\n",
       "marketing_opt_in    300\n",
       "age                 300\n",
       "gender              300\n",
       "dtype: int64"
      ]
     },
     "execution_count": 1033,
     "metadata": {},
     "output_type": "execute_result"
    }
   ],
   "source": [
    "# df.isna().sum()\n",
    "df.count()"
   ]
  },
  {
   "cell_type": "code",
   "execution_count": 1034,
   "id": "b3fe71ea",
   "metadata": {},
   "outputs": [
    {
     "name": "stdout",
     "output_type": "stream",
     "text": [
      "Empty DataFrame\n",
      "Columns: [customer_id, name, email, signup_date, source, region, plan_selected, marketing_opt_in, age, gender]\n",
      "Index: []\n"
     ]
    }
   ],
   "source": [
    "#double checking for duplicates using customer_id column if created\n",
    "duplicates = df[df['customer_id'].duplicated(keep=False)]\n",
    "print(duplicates)"
   ]
  },
  {
   "cell_type": "markdown",
   "id": "d73a00e1",
   "metadata": {},
   "source": [
    "TASK 2 : Data Quality Check"
   ]
  },
  {
   "cell_type": "code",
   "execution_count": 1035,
   "id": "91f17430",
   "metadata": {},
   "outputs": [
    {
     "name": "stdout",
     "output_type": "stream",
     "text": [
      "                  Missing Values  Percentage (%)\n",
      "customer_id                    0             0.0\n",
      "name                           0             0.0\n",
      "email                          0             0.0\n",
      "signup_date                    0             0.0\n",
      "source                         0             0.0\n",
      "region                         0             0.0\n",
      "plan_selected                  0             0.0\n",
      "marketing_opt_in               0             0.0\n",
      "age                            0             0.0\n",
      "gender                         0             0.0\n"
     ]
    }
   ],
   "source": [
    "#Calculate number of missing values in each column \n",
    "missing_counts = df.isnull().sum()\n",
    "\n",
    "# Percentage of missing values per column\n",
    "missing_percentages = (missing_counts / len(df)) * 100\n",
    "\n",
    "# Combining into one summary DataFrame\n",
    "missing_summary = pd.DataFrame({\n",
    "    'Missing Values': missing_counts,\n",
    "    'Percentage (%)': missing_percentages.round(2)\n",
    "})\n",
    "\n",
    "\n",
    "print(missing_summary)\n"
   ]
  },
  {
   "cell_type": "markdown",
   "id": "70899dd7",
   "metadata": {},
   "source": [
    "Number of Duplicates"
   ]
  },
  {
   "cell_type": "code",
   "execution_count": 1036,
   "id": "a7b26a11",
   "metadata": {},
   "outputs": [
    {
     "name": "stdout",
     "output_type": "stream",
     "text": [
      "0\n"
     ]
    }
   ],
   "source": [
    "duplicates_values = df.duplicated().sum()\n",
    "print(duplicates_values)"
   ]
  },
  {
   "cell_type": "markdown",
   "id": "3c5a34e5",
   "metadata": {},
   "source": [
    "TASK 3: SUMMARY OUTPUTS"
   ]
  },
  {
   "cell_type": "markdown",
   "id": "60ee2644",
   "metadata": {},
   "source": [
    "3.1 Sign-ups per week"
   ]
  },
  {
   "cell_type": "code",
   "execution_count": 1041,
   "id": "45ea87b9",
   "metadata": {},
   "outputs": [
    {
     "name": "stdout",
     "output_type": "stream",
     "text": [
      "      Week  Signups\n",
      "0  Week 22       14\n",
      "1  Week 27        7\n",
      "2  Week 21        7\n",
      "3   Week 2        7\n",
      "4  Week 39        7\n",
      "5  Week 24        7\n",
      "6  Week 25        7\n",
      "7  Week 26        7\n",
      "8  Week 28        7\n",
      "9  Week 19        7\n"
     ]
    }
   ],
   "source": [
    "# Convert signup_date to datetime\n",
    "# df['signup_date'] = pd.to_datetime(df['signup_date'])\n",
    "\n",
    "# Create a signup_week starting from Week 1\n",
    "df['signup_week_num'] = df['signup_date'].dt.to_period('W').rank(method='dense').astype(int)\n",
    "\n",
    "# Group by the new week number and count signups\n",
    "weekly_signups = df.groupby('signup_week_num').size().reset_index(name='Signups')\n",
    "\n",
    "# Rename the column to display \"Week X\"\n",
    "weekly_signups['Week'] = 'Week ' + weekly_signups['signup_week_num'].astype(str)\n",
    "\n",
    "# Drop the numerical column if you want only labeled weeks\n",
    "weekly_signups = weekly_signups[['Week', 'Signups']]\n",
    "\n",
    "# Sort by sign-ups in descending order\n",
    "weekly_signups = weekly_signups.sort_values(by='Signups', ascending=False).reset_index(drop=True)\n",
    "\n",
    "# Display result\n",
    "print(weekly_signups.head(10))\n",
    "\n",
    "\n"
   ]
  },
  {
   "cell_type": "code",
   "execution_count": 1042,
   "id": "7e394976",
   "metadata": {},
   "outputs": [
    {
     "name": "stdout",
     "output_type": "stream",
     "text": [
      "[14  7  6]\n"
     ]
    }
   ],
   "source": [
    "print(weekly_signups['Signups'].unique())"
   ]
  },
  {
   "cell_type": "markdown",
   "id": "3afd629c",
   "metadata": {},
   "source": [
    "3.2 Sign-ups by source, region, and plan_selected"
   ]
  },
  {
   "cell_type": "code",
   "execution_count": null,
   "id": "ce31eaa4",
   "metadata": {},
   "outputs": [
    {
     "name": "stdout",
     "output_type": "stream",
     "text": [
      "      source  Signups\n",
      "0   Facebook       40\n",
      "1     Google       50\n",
      "2  Instagram       49\n",
      "3   Linkedin       39\n",
      "4   Referral       49\n",
      "5    Unknown       15\n",
      "6    Youtube       58\n"
     ]
    }
   ],
   "source": [
    "# Group by source, region, and plan_selected and count sign-ups\n",
    "# signups by source\n",
    "signups_summary = df.groupby(['source']).size().reset_index(name='Signups')\n",
    "# result\n",
    "print(signups_summary)\n"
   ]
  },
  {
   "cell_type": "code",
   "execution_count": null,
   "id": "f3754269",
   "metadata": {},
   "outputs": [
    {
     "name": "stdout",
     "output_type": "stream",
     "text": [
      "    region  Signups\n",
      "0  Central       39\n",
      "1     East       61\n",
      "2    North       65\n",
      "3    South       59\n",
      "4  Unknown       30\n",
      "5     West       46\n"
     ]
    }
   ],
   "source": [
    "# signups by region\n",
    "signups_summary = df.groupby(['region']).size().reset_index(name='Signups')\n",
    "# result\n",
    "print(signups_summary)\n"
   ]
  },
  {
   "cell_type": "code",
   "execution_count": null,
   "id": "366b1bc1",
   "metadata": {},
   "outputs": [
    {
     "name": "stdout",
     "output_type": "stream",
     "text": [
      "  plan_selected  Signups\n",
      "0         basic       92\n",
      "1       premium      100\n",
      "2           pro       94\n",
      "3   unknownplan       14\n"
     ]
    }
   ],
   "source": [
    "# signups by plan_selected\n",
    "signups_summary = df.groupby(['plan_selected']).size().reset_index(name='Signups')\n",
    "# result\n",
    "print(signups_summary)\n"
   ]
  },
  {
   "cell_type": "markdown",
   "id": "69172fa2",
   "metadata": {},
   "source": [
    "3.3 Marketing opt-in counts by gender"
   ]
  },
  {
   "cell_type": "code",
   "execution_count": null,
   "id": "9be98eaa",
   "metadata": {},
   "outputs": [
    {
     "name": "stdout",
     "output_type": "stream",
     "text": [
      "       gender  marketing_opt_in  Count\n",
      "0      Female             False     48\n",
      "1      Female              True     45\n",
      "2        Male             False     55\n",
      "3        Male              True     38\n",
      "4  Non-Binary             False     23\n",
      "5  Non-Binary              True     19\n",
      "6       Other             False     41\n",
      "7       Other              True     31\n"
     ]
    }
   ],
   "source": [
    "# Group by gender and marketing_opt_in and their counts\n",
    "marketing_by_gender = df.groupby(['gender', 'marketing_opt_in']).size().reset_index(name='Count')\n",
    "\n",
    "# result\n",
    "print(marketing_by_gender)\n"
   ]
  },
  {
   "cell_type": "markdown",
   "id": "9dcc3bcd",
   "metadata": {},
   "source": [
    "3.4 Age summary: min, max, mean, median, null count"
   ]
  },
  {
   "cell_type": "code",
   "execution_count": 1049,
   "id": "6c18d16f",
   "metadata": {},
   "outputs": [
    {
     "data": {
      "text/plain": [
       "count    300.000000\n",
       "mean      35.413333\n",
       "std       10.663090\n",
       "min       21.000000\n",
       "25%       25.000000\n",
       "50%       34.000000\n",
       "75%       40.000000\n",
       "max       60.000000\n",
       "Name: age, dtype: float64"
      ]
     },
     "execution_count": 1049,
     "metadata": {},
     "output_type": "execute_result"
    }
   ],
   "source": [
    "df['age'].describe()"
   ]
  },
  {
   "cell_type": "code",
   "execution_count": null,
   "id": "fa76e2ff",
   "metadata": {},
   "outputs": [
    {
     "data": {
      "text/plain": [
       "0"
      ]
     },
     "execution_count": 1053,
     "metadata": {},
     "output_type": "execute_result"
    }
   ],
   "source": [
    "#checking for null values in age column\n",
    "df['age'].isnull().sum()"
   ]
  }
 ],
 "metadata": {
  "kernelspec": {
   "display_name": "Python 3",
   "language": "python",
   "name": "python3"
  },
  "language_info": {
   "codemirror_mode": {
    "name": "ipython",
    "version": 3
   },
   "file_extension": ".py",
   "mimetype": "text/x-python",
   "name": "python",
   "nbconvert_exporter": "python",
   "pygments_lexer": "ipython3",
   "version": "3.11.2"
  }
 },
 "nbformat": 4,
 "nbformat_minor": 5
}
