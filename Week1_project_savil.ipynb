{
 "cells": [
  {
   "cell_type": "markdown",
   "id": "4c4e8135",
   "metadata": {},
   "source": [
    "Uptrail Week 1 project"
   ]
  },
  {
   "cell_type": "code",
   "execution_count": 80,
   "id": "5b22b9d7",
   "metadata": {},
   "outputs": [],
   "source": [
    "import pandas as pd\n",
    "import numpy as np"
   ]
  },
  {
   "cell_type": "code",
   "execution_count": 81,
   "id": "de01270e",
   "metadata": {},
   "outputs": [
    {
     "data": {
      "text/html": [
       "<div>\n",
       "<style scoped>\n",
       "    .dataframe tbody tr th:only-of-type {\n",
       "        vertical-align: middle;\n",
       "    }\n",
       "\n",
       "    .dataframe tbody tr th {\n",
       "        vertical-align: top;\n",
       "    }\n",
       "\n",
       "    .dataframe thead th {\n",
       "        text-align: right;\n",
       "    }\n",
       "</style>\n",
       "<table border=\"1\" class=\"dataframe\">\n",
       "  <thead>\n",
       "    <tr style=\"text-align: right;\">\n",
       "      <th></th>\n",
       "      <th>customer_id</th>\n",
       "      <th>name</th>\n",
       "      <th>email</th>\n",
       "      <th>signup_date</th>\n",
       "      <th>source</th>\n",
       "      <th>region</th>\n",
       "      <th>plan_selected</th>\n",
       "      <th>marketing_opt_in</th>\n",
       "      <th>age</th>\n",
       "      <th>gender</th>\n",
       "    </tr>\n",
       "  </thead>\n",
       "  <tbody>\n",
       "    <tr>\n",
       "      <th>0</th>\n",
       "      <td>CUST00000</td>\n",
       "      <td>Joshua Bryant</td>\n",
       "      <td>NaN</td>\n",
       "      <td>NaN</td>\n",
       "      <td>Instagram</td>\n",
       "      <td>NaN</td>\n",
       "      <td>basic</td>\n",
       "      <td>No</td>\n",
       "      <td>34</td>\n",
       "      <td>Female</td>\n",
       "    </tr>\n",
       "    <tr>\n",
       "      <th>1</th>\n",
       "      <td>CUST00001</td>\n",
       "      <td>Nicole Stewart</td>\n",
       "      <td>nicole1@example.com</td>\n",
       "      <td>02-01-2024</td>\n",
       "      <td>LinkedIn</td>\n",
       "      <td>West</td>\n",
       "      <td>basic</td>\n",
       "      <td>Yes</td>\n",
       "      <td>29</td>\n",
       "      <td>Male</td>\n",
       "    </tr>\n",
       "    <tr>\n",
       "      <th>2</th>\n",
       "      <td>CUST00002</td>\n",
       "      <td>Rachel Allen</td>\n",
       "      <td>rachel2@example.com</td>\n",
       "      <td>03-01-2024</td>\n",
       "      <td>Google</td>\n",
       "      <td>North</td>\n",
       "      <td>PREMIUM</td>\n",
       "      <td>Yes</td>\n",
       "      <td>34</td>\n",
       "      <td>Non-Binary</td>\n",
       "    </tr>\n",
       "    <tr>\n",
       "      <th>3</th>\n",
       "      <td>CUST00003</td>\n",
       "      <td>Zachary Sanchez</td>\n",
       "      <td>zachary3@mailhub.org</td>\n",
       "      <td>04-01-2024</td>\n",
       "      <td>YouTube</td>\n",
       "      <td>NaN</td>\n",
       "      <td>Pro</td>\n",
       "      <td>No</td>\n",
       "      <td>40</td>\n",
       "      <td>Male</td>\n",
       "    </tr>\n",
       "    <tr>\n",
       "      <th>4</th>\n",
       "      <td>CUST00004</td>\n",
       "      <td>NaN</td>\n",
       "      <td>matthew4@mailhub.org</td>\n",
       "      <td>05-01-2024</td>\n",
       "      <td>LinkedIn</td>\n",
       "      <td>West</td>\n",
       "      <td>Premium</td>\n",
       "      <td>No</td>\n",
       "      <td>25</td>\n",
       "      <td>Other</td>\n",
       "    </tr>\n",
       "  </tbody>\n",
       "</table>\n",
       "</div>"
      ],
      "text/plain": [
       "  customer_id             name                 email signup_date     source   \n",
       "0   CUST00000    Joshua Bryant                   NaN         NaN  Instagram  \\\n",
       "1   CUST00001   Nicole Stewart   nicole1@example.com  02-01-2024   LinkedIn   \n",
       "2   CUST00002     Rachel Allen   rachel2@example.com  03-01-2024     Google   \n",
       "3   CUST00003  Zachary Sanchez  zachary3@mailhub.org  04-01-2024    YouTube   \n",
       "4   CUST00004              NaN  matthew4@mailhub.org  05-01-2024   LinkedIn   \n",
       "\n",
       "  region plan_selected marketing_opt_in age      gender  \n",
       "0    NaN         basic               No  34      Female  \n",
       "1   West         basic              Yes  29        Male  \n",
       "2  North       PREMIUM              Yes  34  Non-Binary  \n",
       "3    NaN           Pro               No  40        Male  \n",
       "4   West       Premium               No  25       Other  "
      ]
     },
     "execution_count": 81,
     "metadata": {},
     "output_type": "execute_result"
    }
   ],
   "source": [
    "df = pd.read_csv(\"C:/Users/HP/Desktop/Uptrail/Week1 Dataset/customer_signups.csv\")\n",
    "df.head(5)"
   ]
  },
  {
   "cell_type": "code",
   "execution_count": 82,
   "id": "5ccc3dac",
   "metadata": {},
   "outputs": [
    {
     "data": {
      "text/plain": [
       "customer_id         298\n",
       "name                291\n",
       "email               266\n",
       "signup_date         298\n",
       "source              291\n",
       "region              270\n",
       "plan_selected       292\n",
       "marketing_opt_in    290\n",
       "age                 288\n",
       "gender              292\n",
       "dtype: int64"
      ]
     },
     "execution_count": 82,
     "metadata": {},
     "output_type": "execute_result"
    }
   ],
   "source": [
    "df.count()"
   ]
  },
  {
   "cell_type": "code",
   "execution_count": 83,
   "id": "489695cf",
   "metadata": {},
   "outputs": [
    {
     "data": {
      "text/plain": [
       "customer_id         object\n",
       "name                object\n",
       "email               object\n",
       "signup_date         object\n",
       "source              object\n",
       "region              object\n",
       "plan_selected       object\n",
       "marketing_opt_in    object\n",
       "age                 object\n",
       "gender              object\n",
       "dtype: object"
      ]
     },
     "execution_count": 83,
     "metadata": {},
     "output_type": "execute_result"
    }
   ],
   "source": [
    "df.dtypes"
   ]
  },
  {
   "cell_type": "code",
   "execution_count": 84,
   "id": "a6e8e6fe",
   "metadata": {},
   "outputs": [],
   "source": [
    "# df['signup_date'] = pd.to_datetime(df['signup_date'])\n",
    "# df['signup_date'] = pd.to_datetime(df['signup_date'], dayfirst=True, errors='coerce')\n",
    "# df.dtypes\n"
   ]
  },
  {
   "cell_type": "code",
   "execution_count": 85,
   "id": "af2ae08c",
   "metadata": {},
   "outputs": [
    {
     "name": "stdout",
     "output_type": "stream",
     "text": [
      "Valid dates: 300\n",
      "Invalid (NaT) dates: 0\n"
     ]
    }
   ],
   "source": [
    "# bad_values = ['not a date', '', 'n/a']\n",
    "# df['signup_date'] = df['signup_date'].replace(bad_values, np.nan)\n",
    "# df['signup_date'] = pd.to_datetime(df['signup_date'], errors='coerce')\n",
    "# # df['signup_date'].count()\n",
    "# df['signup_date'] = pd.to_datetime(df['signup_date'])\n",
    "df['signup_date'] = pd.to_datetime(df['signup_date'], dayfirst=True, errors='coerce')\n",
    "# df['signup_date'] = df['signup_date'].replace('', pd.NA)\n",
    "median_date = df['signup_date'].median()\n",
    "df['signup_date'] = df['signup_date'].fillna(median_date)\n",
    "\n",
    "\n",
    "# df['signup_date'].count()\n",
    "\n",
    "# df['signup_date'] = pd.to_datetime(df['signup_date'], dayfirst=True, errors='coerce')\n",
    "print(\"Valid dates:\", df['signup_date'].notna().sum())\n",
    "print(\"Invalid (NaT) dates:\", df['signup_date'].isna().sum())\n"
   ]
  },
  {
   "cell_type": "code",
   "execution_count": 86,
   "id": "a7bc70f7",
   "metadata": {},
   "outputs": [
    {
     "data": {
      "text/plain": [
       "0    2024-05-30\n",
       "1    2024-01-02\n",
       "2    2024-01-03\n",
       "3    2024-01-04\n",
       "4    2024-01-05\n",
       "        ...    \n",
       "80   2024-05-30\n",
       "81   2024-03-22\n",
       "82   2024-03-23\n",
       "83   2024-03-24\n",
       "84   2024-03-25\n",
       "Name: signup_date, Length: 85, dtype: datetime64[ns]"
      ]
     },
     "execution_count": 86,
     "metadata": {},
     "output_type": "execute_result"
    }
   ],
   "source": [
    "# Show rows that failed parsing\n",
    "df['signup_date'].head(85)\n"
   ]
  },
  {
   "cell_type": "code",
   "execution_count": 87,
   "id": "d8f186fd",
   "metadata": {},
   "outputs": [],
   "source": [
    "#converting marketing-opt_in column into boolean data type and handling missing values\n",
    "#converting marketing-opt_in column into boolean data type and handling missing values\n",
    "# df['marketing_opt_in'] = df['marketing_opt_in'].astype(str).str.lower().str.strip()\n",
    "# df['marketing_opt_in'].head(5)\n",
    "# df['marketing_opt_in'] = df['marketing_opt_in'].map({\n",
    "#     'yes': True,\n",
    "#     'no' : False\n",
    "# })\n",
    "# df.dtypes"
   ]
  },
  {
   "cell_type": "code",
   "execution_count": 88,
   "id": "1e81431f",
   "metadata": {},
   "outputs": [],
   "source": [
    "# df['marketing_opt_in'].head(20)"
   ]
  },
  {
   "cell_type": "code",
   "execution_count": null,
   "id": "ce7309b8",
   "metadata": {},
   "outputs": [],
   "source": []
  }
 ],
 "metadata": {
  "kernelspec": {
   "display_name": "Python 3",
   "language": "python",
   "name": "python3"
  },
  "language_info": {
   "codemirror_mode": {
    "name": "ipython",
    "version": 3
   },
   "file_extension": ".py",
   "mimetype": "text/x-python",
   "name": "python",
   "nbconvert_exporter": "python",
   "pygments_lexer": "ipython3",
   "version": "3.11.2"
  }
 },
 "nbformat": 4,
 "nbformat_minor": 5
}
